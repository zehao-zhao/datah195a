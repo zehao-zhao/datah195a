{
 "cells": [
  {
   "cell_type": "markdown",
   "metadata": {},
   "source": [
    "# L&S 88 - Final Project - Blank Notebook\n",
    "\n",
    "_Notebook created by Chris Pyles_\n",
    "\n",
    "This notebook is intended to give you some basic information on manipulating rectangular data using `pandas` and `datascience`. The `pandas` library is the standard library for data manipulation, however most Data 8 students are more familiar with the `datascience` library. This notebook covers basic operations and how to do them in both libraries.\n",
    "\n",
    "**Table of Contents**\n",
    "1. [Dependences](#Dependencies)\n",
    "2. [Loading Data](#Loading-Data)\n",
    "3. [Moving Between `pandas` and `datascience`](#Moving-Between-pandas-and-datascience)\n",
    "4. [Rows and Columns](#Rows-and-Columns)\n",
    "5. [Accessing Vaues](#Accessing-Values)\n",
    "6. [Missing Values](#Missing-Values)\n",
    "7. [Descriptive Statistics](#Descriptive-Statistics)\n",
    "8. [Grouping](#Grouping)\n",
    "9. [Manipulating Values](#Manipulating-Values)\n",
    "10. [Exporting Figures](#Exporting-Figures)\n",
    "11. [Exporting Data](#Exporting-Data)\n",
    "12. [Conclusion](#Conclusion)\n",
    "\n",
    "### Dependencies\n",
    "\n",
    "In order to use the `pandas` and `datascience` packages, they first need to be loaded. The code below loads both libraries in the way that most students are used to using them, along with the `numpy` and `pyplot` libraries."
   ]
  },
  {
   "cell_type": "code",
   "execution_count": 1,
   "metadata": {},
   "outputs": [],
   "source": [
    "from datascience import *\n",
    "import pandas as pd\n",
    "import numpy as np\n",
    "import matplotlib.pyplot as plt\n",
    "%matplotlib inline\n",
    "plt.style.use('fivethirtyeight')\n",
    "\n",
    "# the below is not usually necessary; we use it here to make\n",
    "# nice HTML displays in this notebook\n",
    "from IPython.display import display"
   ]
  },
  {
   "cell_type": "markdown",
   "metadata": {},
   "source": [
    "### Loading Data\n",
    "\n",
    "Most of the data that you will use is coded in CSV (comma-separated values) files. These are basic text files that have rows of data on each line, with the values in each column delimited by commas:\n",
    "\n",
    "```\n",
    "Col_1,Col_2,Col_3\n",
    "1,2,3\n",
    "4,5,6\n",
    "```\n",
    "\n",
    "There are other ways of encoding rectangular data, but this is the most common and the easiest to work with. The `pandas` and `datascience` libraries assume that the first line of the file contains the column names, so if they names of columns are not included in the file you will need to use more code than what is provided below."
   ]
  },
  {
   "cell_type": "code",
   "execution_count": 2,
   "metadata": {},
   "outputs": [
    {
     "name": "stderr",
     "output_type": "stream",
     "text": [
      "/Library/Frameworks/Python.framework/Versions/3.6/lib/python3.6/site-packages/datascience/tables.py:132: FutureWarning: read_table is deprecated, use read_csv instead.\n",
      "  df = pandas.read_table(filepath_or_buffer, *args, **vargs)\n"
     ]
    }
   ],
   "source": [
    "# pandas\n",
    "df = pd.read_csv('../data/insurance.csv')\n",
    "\n",
    "# datascience\n",
    "tbl = Table.read_table('../data/insurance.csv')"
   ]
  },
  {
   "cell_type": "markdown",
   "metadata": {},
   "source": [
    "Sometimes, you will encounter files that are not delimited by commas but by other characters or whitespace. Such a file make look like this:\n",
    "\n",
    "```\n",
    "Col_1    Col_2    Col_3\n",
    "1        2        3\n",
    "4        5        6\n",
    "```\n",
    "\n",
    "```\n",
    "Col_1|Col_2|Col_3\n",
    "1|2|3\n",
    "4|5|6\n",
    "```\n",
    "\n",
    "The first of these file formats is called TSV (tab-separated values) and the delimiter is a tab (`'\\t'` in Python). The second is a generic text file that uses a pipe as the delimiter. To read data files with these formats into Python, you will need to use `pandas` to first load the file and then, if you need to, you can load it into Tables.\n",
    "\n",
    "To use `pandas` to load a file of this type, you use `pd.read_csv()` and set the `sep` argument to a string of length 1 containing the delimiter for that file, e.g. `'\\t'` in the case of a TSV file or `'|'` for the pipe-separated file above."
   ]
  },
  {
   "cell_type": "code",
   "execution_count": 3,
   "metadata": {},
   "outputs": [
    {
     "name": "stdout",
     "output_type": "stream",
     "text": [
      "TSV File:\n"
     ]
    },
    {
     "data": {
      "text/html": [
       "<div>\n",
       "<style scoped>\n",
       "    .dataframe tbody tr th:only-of-type {\n",
       "        vertical-align: middle;\n",
       "    }\n",
       "\n",
       "    .dataframe tbody tr th {\n",
       "        vertical-align: top;\n",
       "    }\n",
       "\n",
       "    .dataframe thead th {\n",
       "        text-align: right;\n",
       "    }\n",
       "</style>\n",
       "<table border=\"1\" class=\"dataframe\">\n",
       "  <thead>\n",
       "    <tr style=\"text-align: right;\">\n",
       "      <th></th>\n",
       "      <th>age</th>\n",
       "      <th>sex</th>\n",
       "      <th>bmi</th>\n",
       "      <th>children</th>\n",
       "      <th>smoker</th>\n",
       "      <th>region</th>\n",
       "      <th>charges</th>\n",
       "    </tr>\n",
       "  </thead>\n",
       "  <tbody>\n",
       "    <tr>\n",
       "      <th>0</th>\n",
       "      <td>19</td>\n",
       "      <td>female</td>\n",
       "      <td>27.900</td>\n",
       "      <td>0</td>\n",
       "      <td>yes</td>\n",
       "      <td>southwest</td>\n",
       "      <td>16884.92400</td>\n",
       "    </tr>\n",
       "    <tr>\n",
       "      <th>1</th>\n",
       "      <td>18</td>\n",
       "      <td>male</td>\n",
       "      <td>33.770</td>\n",
       "      <td>1</td>\n",
       "      <td>no</td>\n",
       "      <td>southeast</td>\n",
       "      <td>1725.55230</td>\n",
       "    </tr>\n",
       "    <tr>\n",
       "      <th>2</th>\n",
       "      <td>28</td>\n",
       "      <td>male</td>\n",
       "      <td>33.000</td>\n",
       "      <td>3</td>\n",
       "      <td>no</td>\n",
       "      <td>southeast</td>\n",
       "      <td>4449.46200</td>\n",
       "    </tr>\n",
       "    <tr>\n",
       "      <th>3</th>\n",
       "      <td>33</td>\n",
       "      <td>male</td>\n",
       "      <td>22.705</td>\n",
       "      <td>0</td>\n",
       "      <td>no</td>\n",
       "      <td>northwest</td>\n",
       "      <td>21984.47061</td>\n",
       "    </tr>\n",
       "    <tr>\n",
       "      <th>4</th>\n",
       "      <td>32</td>\n",
       "      <td>male</td>\n",
       "      <td>28.880</td>\n",
       "      <td>0</td>\n",
       "      <td>no</td>\n",
       "      <td>northwest</td>\n",
       "      <td>3866.85520</td>\n",
       "    </tr>\n",
       "  </tbody>\n",
       "</table>\n",
       "</div>"
      ],
      "text/plain": [
       "   age     sex     bmi  children smoker     region      charges\n",
       "0   19  female  27.900         0    yes  southwest  16884.92400\n",
       "1   18    male  33.770         1     no  southeast   1725.55230\n",
       "2   28    male  33.000         3     no  southeast   4449.46200\n",
       "3   33    male  22.705         0     no  northwest  21984.47061\n",
       "4   32    male  28.880         0     no  northwest   3866.85520"
      ]
     },
     "metadata": {},
     "output_type": "display_data"
    },
    {
     "name": "stdout",
     "output_type": "stream",
     "text": [
      "\n",
      "\n",
      "Pipe-Separated File:\n"
     ]
    },
    {
     "data": {
      "text/html": [
       "<div>\n",
       "<style scoped>\n",
       "    .dataframe tbody tr th:only-of-type {\n",
       "        vertical-align: middle;\n",
       "    }\n",
       "\n",
       "    .dataframe tbody tr th {\n",
       "        vertical-align: top;\n",
       "    }\n",
       "\n",
       "    .dataframe thead th {\n",
       "        text-align: right;\n",
       "    }\n",
       "</style>\n",
       "<table border=\"1\" class=\"dataframe\">\n",
       "  <thead>\n",
       "    <tr style=\"text-align: right;\">\n",
       "      <th></th>\n",
       "      <th>age</th>\n",
       "      <th>sex</th>\n",
       "      <th>bmi</th>\n",
       "      <th>children</th>\n",
       "      <th>smoker</th>\n",
       "      <th>region</th>\n",
       "      <th>charges</th>\n",
       "    </tr>\n",
       "  </thead>\n",
       "  <tbody>\n",
       "    <tr>\n",
       "      <th>0</th>\n",
       "      <td>19</td>\n",
       "      <td>female</td>\n",
       "      <td>27.900</td>\n",
       "      <td>0</td>\n",
       "      <td>yes</td>\n",
       "      <td>southwest</td>\n",
       "      <td>16884.92400</td>\n",
       "    </tr>\n",
       "    <tr>\n",
       "      <th>1</th>\n",
       "      <td>18</td>\n",
       "      <td>male</td>\n",
       "      <td>33.770</td>\n",
       "      <td>1</td>\n",
       "      <td>no</td>\n",
       "      <td>southeast</td>\n",
       "      <td>1725.55230</td>\n",
       "    </tr>\n",
       "    <tr>\n",
       "      <th>2</th>\n",
       "      <td>28</td>\n",
       "      <td>male</td>\n",
       "      <td>33.000</td>\n",
       "      <td>3</td>\n",
       "      <td>no</td>\n",
       "      <td>southeast</td>\n",
       "      <td>4449.46200</td>\n",
       "    </tr>\n",
       "    <tr>\n",
       "      <th>3</th>\n",
       "      <td>33</td>\n",
       "      <td>male</td>\n",
       "      <td>22.705</td>\n",
       "      <td>0</td>\n",
       "      <td>no</td>\n",
       "      <td>northwest</td>\n",
       "      <td>21984.47061</td>\n",
       "    </tr>\n",
       "    <tr>\n",
       "      <th>4</th>\n",
       "      <td>32</td>\n",
       "      <td>male</td>\n",
       "      <td>28.880</td>\n",
       "      <td>0</td>\n",
       "      <td>no</td>\n",
       "      <td>northwest</td>\n",
       "      <td>3866.85520</td>\n",
       "    </tr>\n",
       "  </tbody>\n",
       "</table>\n",
       "</div>"
      ],
      "text/plain": [
       "   age     sex     bmi  children smoker     region      charges\n",
       "0   19  female  27.900         0    yes  southwest  16884.92400\n",
       "1   18    male  33.770         1     no  southeast   1725.55230\n",
       "2   28    male  33.000         3     no  southeast   4449.46200\n",
       "3   33    male  22.705         0     no  northwest  21984.47061\n",
       "4   32    male  28.880         0     no  northwest   3866.85520"
      ]
     },
     "metadata": {},
     "output_type": "display_data"
    }
   ],
   "source": [
    "# tsv file\n",
    "df_tsv = pd.read_csv('../data/insurance.tsv', sep='\\t')\n",
    "\n",
    "# pipe\n",
    "df_pipe = pd.read_csv('../data/insurance.txt', sep='|')\n",
    "\n",
    "# to take these into datascience\n",
    "tbl_tsv = Table.from_df(df_tsv)\n",
    "tbl_pipe = Table.from_df(df_pipe)\n",
    "\n",
    "print('TSV File:')\n",
    "display(df_tsv.head())\n",
    "print('\\n\\nPipe-Separated File:')\n",
    "display(df_pipe.head())"
   ]
  },
  {
   "cell_type": "markdown",
   "metadata": {},
   "source": [
    "Some data sets you may encounter may also be in DTA format (from Stata). To load Stata data sets, you need to use the `pd.read_stata()` function and then, optionally, transfer that dataframe to Tables. The function call looks like this:\n",
    "\n",
    "```python\n",
    "df_stata = pd.read_stata(\"../data/insurance.dta\")\n",
    "\n",
    "tbl_stata = Table.from_df(df_stata)\n",
    "```"
   ]
  },
  {
   "cell_type": "markdown",
   "metadata": {},
   "source": [
    "### Moving Between `pandas` and `datascience`\n",
    "\n",
    "The `pandas` and `datascience` libraries are both good for different things, and in order to optimize your code you will need to be able to transfer your data between the two. The code for this is provided below."
   ]
  },
  {
   "cell_type": "code",
   "execution_count": 4,
   "metadata": {},
   "outputs": [],
   "source": [
    "# pandas to datascience\n",
    "tbl2 = Table.from_df(df)\n",
    "\n",
    "# datascience to pandas\n",
    "df2 = tbl.to_df()"
   ]
  },
  {
   "cell_type": "markdown",
   "metadata": {},
   "source": [
    "### Rows and Columns \n",
    "\n",
    "To get row and column counts, `pandas` provides the `shape` attribute of a dataframe, which is the tuple `(num_rows, num_cols)`. This means that `df.shape[0]` gives the number of rows and `df.shape[1]` the number of columns. The `datascience` library provides the `num_rows` and `num_columns` attributes, which are self-explanatory."
   ]
  },
  {
   "cell_type": "code",
   "execution_count": 5,
   "metadata": {},
   "outputs": [
    {
     "data": {
      "text/plain": [
       "(1338, 7)"
      ]
     },
     "execution_count": 5,
     "metadata": {},
     "output_type": "execute_result"
    }
   ],
   "source": [
    "# pandas\n",
    "df.shape\n",
    "\n",
    "# datascience\n",
    "tbl.num_rows, tbl.num_columns"
   ]
  },
  {
   "cell_type": "markdown",
   "metadata": {},
   "source": [
    "To access the labels of the columns, `pandas` has `columns` and `datascience` has `labels`."
   ]
  },
  {
   "cell_type": "code",
   "execution_count": 6,
   "metadata": {},
   "outputs": [
    {
     "data": {
      "text/plain": [
       "('age', 'sex', 'bmi', 'children', 'smoker', 'region', 'charges')"
      ]
     },
     "execution_count": 6,
     "metadata": {},
     "output_type": "execute_result"
    }
   ],
   "source": [
    "# pandas\n",
    "df.columns\n",
    "\n",
    "# datascience\n",
    "tbl.labels"
   ]
  },
  {
   "cell_type": "markdown",
   "metadata": {},
   "source": [
    "### Accessing Values\n",
    "\n",
    "For all non-continuous variables, it is usually important to understand the possible values of the variable; that is, to know the variable's _unique_ values. `pandas` has a built-in method for its `Series` object, `Series.unique()`, which returns an array of the unique values. While `datascience` does not have a built-in method, it is a simple thing to export a column as an array and pass it to `np.unique`."
   ]
  },
  {
   "cell_type": "code",
   "execution_count": 7,
   "metadata": {},
   "outputs": [
    {
     "data": {
      "text/plain": [
       "array([18, 19, 20, 21, 22, 23, 24, 25, 26, 27, 28, 29, 30, 31, 32, 33, 34,\n",
       "       35, 36, 37, 38, 39, 40, 41, 42, 43, 44, 45, 46, 47, 48, 49, 50, 51,\n",
       "       52, 53, 54, 55, 56, 57, 58, 59, 60, 61, 62, 63, 64])"
      ]
     },
     "execution_count": 7,
     "metadata": {},
     "output_type": "execute_result"
    }
   ],
   "source": [
    "# pandas\n",
    "df['age'].unique()\n",
    "\n",
    "# datascience\n",
    "np.unique(tbl.column('age'))"
   ]
  },
  {
   "cell_type": "markdown",
   "metadata": {},
   "source": [
    "Filtering rows is also an important part of accessing values. In `pandas`, you filter rows by indexing your dataframe with a boolean `Series` object, which you can create using a column of your dataframe and comparison operators:\n",
    "\n",
    "```python\n",
    "df[df['col_1'] > 100]\n",
    "```\n",
    "\n",
    "A more advance version of this indexing is provided below. The `datascience` library provides the `.where()` method to filter rows, which uses a column name and a predicate. For a full list of predicate functions, see the [`datascience.predicates` documentation](http://data8.org/datascience/predicates.html)."
   ]
  },
  {
   "cell_type": "code",
   "execution_count": 8,
   "metadata": {},
   "outputs": [
    {
     "data": {
      "text/html": [
       "<table border=\"1\" class=\"dataframe\">\n",
       "    <thead>\n",
       "        <tr>\n",
       "            <th>age</th> <th>sex</th> <th>bmi</th> <th>children</th> <th>smoker</th> <th>region</th> <th>charges</th>\n",
       "        </tr>\n",
       "    </thead>\n",
       "    <tbody>\n",
       "        <tr>\n",
       "            <td>60  </td> <td>female</td> <td>25.84 </td> <td>0       </td> <td>no    </td> <td>northwest</td> <td>28923.1</td>\n",
       "        </tr>\n",
       "        <tr>\n",
       "            <td>62  </td> <td>female</td> <td>26.29 </td> <td>0       </td> <td>yes   </td> <td>southeast</td> <td>27808.7</td>\n",
       "        </tr>\n",
       "        <tr>\n",
       "            <td>56  </td> <td>female</td> <td>39.82 </td> <td>0       </td> <td>no    </td> <td>southeast</td> <td>11090.7</td>\n",
       "        </tr>\n",
       "        <tr>\n",
       "            <td>56  </td> <td>male  </td> <td>40.3  </td> <td>0       </td> <td>no    </td> <td>southwest</td> <td>10602.4</td>\n",
       "        </tr>\n",
       "        <tr>\n",
       "            <td>60  </td> <td>female</td> <td>36.005</td> <td>0       </td> <td>no    </td> <td>northeast</td> <td>13228.8</td>\n",
       "        </tr>\n",
       "        <tr>\n",
       "            <td>63  </td> <td>female</td> <td>23.085</td> <td>0       </td> <td>no    </td> <td>northeast</td> <td>14451.8</td>\n",
       "        </tr>\n",
       "        <tr>\n",
       "            <td>63  </td> <td>male  </td> <td>28.31 </td> <td>0       </td> <td>no    </td> <td>northwest</td> <td>13770.1</td>\n",
       "        </tr>\n",
       "        <tr>\n",
       "            <td>60  </td> <td>male  </td> <td>39.9  </td> <td>0       </td> <td>yes   </td> <td>southwest</td> <td>48173.4</td>\n",
       "        </tr>\n",
       "        <tr>\n",
       "            <td>55  </td> <td>male  </td> <td>37.3  </td> <td>0       </td> <td>no    </td> <td>southwest</td> <td>20630.3</td>\n",
       "        </tr>\n",
       "        <tr>\n",
       "            <td>60  </td> <td>female</td> <td>24.53 </td> <td>0       </td> <td>no    </td> <td>southeast</td> <td>12629.9</td>\n",
       "        </tr>\n",
       "    </tbody>\n",
       "</table>\n",
       "<p>... (259 rows omitted)</p>"
      ],
      "text/plain": [
       "age  | sex    | bmi    | children | smoker | region    | charges\n",
       "60   | female | 25.84  | 0        | no     | northwest | 28923.1\n",
       "62   | female | 26.29  | 0        | yes    | southeast | 27808.7\n",
       "56   | female | 39.82  | 0        | no     | southeast | 11090.7\n",
       "56   | male   | 40.3   | 0        | no     | southwest | 10602.4\n",
       "60   | female | 36.005 | 0        | no     | northeast | 13228.8\n",
       "63   | female | 23.085 | 0        | no     | northeast | 14451.8\n",
       "63   | male   | 28.31  | 0        | no     | northwest | 13770.1\n",
       "60   | male   | 39.9   | 0        | yes    | southwest | 48173.4\n",
       "55   | male   | 37.3   | 0        | no     | southwest | 20630.3\n",
       "60   | female | 24.53  | 0        | no     | southeast | 12629.9\n",
       "... (259 rows omitted)"
      ]
     },
     "execution_count": 8,
     "metadata": {},
     "output_type": "execute_result"
    }
   ],
   "source": [
    "# pandas\n",
    "df[(df['age'] >= 40) & (df['children'] == 0)]\n",
    "\n",
    "# datascience\n",
    "tbl.where('age', are.above_or_equal_to(40)).where('children', 0)"
   ]
  },
  {
   "cell_type": "markdown",
   "metadata": {},
   "source": [
    "### Missing Values\n",
    "\n",
    "It is inevitable: you will eventually need to deal with missing values. As a refresher, recall this slide from Lecture 9:\n",
    "\n",
    "![NaN Values](../images/nan.jpg)\n",
    "\n",
    "The easiest way to deal with missing values is using the `pandas` library, so we use the `.to_df()` method on the table so that we can use `pandas` functions. To determine whether or not a value is `NaN`, the dataframe method `.isnull()` is very useful. It turns every cell in a dataframe into `True` or `False` to indicate whether or not that cell contained a missing value. You can fill these values using `.fillna()` and drop all rows with missing values with `.dropna()`."
   ]
  },
  {
   "cell_type": "code",
   "execution_count": 9,
   "metadata": {},
   "outputs": [
    {
     "data": {
      "text/html": [
       "<div>\n",
       "<style scoped>\n",
       "    .dataframe tbody tr th:only-of-type {\n",
       "        vertical-align: middle;\n",
       "    }\n",
       "\n",
       "    .dataframe tbody tr th {\n",
       "        vertical-align: top;\n",
       "    }\n",
       "\n",
       "    .dataframe thead th {\n",
       "        text-align: right;\n",
       "    }\n",
       "</style>\n",
       "<table border=\"1\" class=\"dataframe\">\n",
       "  <thead>\n",
       "    <tr style=\"text-align: right;\">\n",
       "      <th></th>\n",
       "      <th>age</th>\n",
       "      <th>sex</th>\n",
       "      <th>bmi</th>\n",
       "      <th>children</th>\n",
       "      <th>smoker</th>\n",
       "      <th>region</th>\n",
       "      <th>charges</th>\n",
       "    </tr>\n",
       "  </thead>\n",
       "  <tbody>\n",
       "    <tr>\n",
       "      <th>0</th>\n",
       "      <td>False</td>\n",
       "      <td>False</td>\n",
       "      <td>False</td>\n",
       "      <td>False</td>\n",
       "      <td>False</td>\n",
       "      <td>False</td>\n",
       "      <td>False</td>\n",
       "    </tr>\n",
       "    <tr>\n",
       "      <th>1</th>\n",
       "      <td>False</td>\n",
       "      <td>False</td>\n",
       "      <td>False</td>\n",
       "      <td>False</td>\n",
       "      <td>False</td>\n",
       "      <td>False</td>\n",
       "      <td>False</td>\n",
       "    </tr>\n",
       "    <tr>\n",
       "      <th>2</th>\n",
       "      <td>False</td>\n",
       "      <td>False</td>\n",
       "      <td>False</td>\n",
       "      <td>False</td>\n",
       "      <td>False</td>\n",
       "      <td>False</td>\n",
       "      <td>False</td>\n",
       "    </tr>\n",
       "    <tr>\n",
       "      <th>3</th>\n",
       "      <td>False</td>\n",
       "      <td>False</td>\n",
       "      <td>False</td>\n",
       "      <td>False</td>\n",
       "      <td>False</td>\n",
       "      <td>False</td>\n",
       "      <td>False</td>\n",
       "    </tr>\n",
       "    <tr>\n",
       "      <th>4</th>\n",
       "      <td>False</td>\n",
       "      <td>False</td>\n",
       "      <td>False</td>\n",
       "      <td>False</td>\n",
       "      <td>False</td>\n",
       "      <td>False</td>\n",
       "      <td>False</td>\n",
       "    </tr>\n",
       "  </tbody>\n",
       "</table>\n",
       "</div>"
      ],
      "text/plain": [
       "     age    sex    bmi  children  smoker  region  charges\n",
       "0  False  False  False     False   False   False    False\n",
       "1  False  False  False     False   False   False    False\n",
       "2  False  False  False     False   False   False    False\n",
       "3  False  False  False     False   False   False    False\n",
       "4  False  False  False     False   False   False    False"
      ]
     },
     "execution_count": 9,
     "metadata": {},
     "output_type": "execute_result"
    }
   ],
   "source": [
    "# pandas\n",
    "df.isnull()\n",
    "\n",
    "# datascience\n",
    "tbl.to_df().isnull().head() # .head() not necessary, just there for tidy output\n",
    "                            # can convert this df back to tables using above commands"
   ]
  },
  {
   "cell_type": "markdown",
   "metadata": {},
   "source": [
    "If you have an array-like object (basically any iterable), you can use `np.isnan` to get an array of boolean values indicating whether or not each item is `NaN`."
   ]
  },
  {
   "cell_type": "code",
   "execution_count": 10,
   "metadata": {},
   "outputs": [
    {
     "data": {
      "text/plain": [
       "array([False, False, False, ..., False, False, False])"
      ]
     },
     "execution_count": 10,
     "metadata": {},
     "output_type": "execute_result"
    }
   ],
   "source": [
    "np.isnan(df['age'].values)"
   ]
  },
  {
   "cell_type": "markdown",
   "metadata": {},
   "source": [
    "To remove rows with `NaN` in a _specific column_, you can combine the `.isnull()` method with dataframe indexing to remove rows using a boolean `Series`. You can also use the `.where()` method for Tables to filter rows in a column and pass a function which determines whether or not a value is `NaN`."
   ]
  },
  {
   "cell_type": "code",
   "execution_count": 11,
   "metadata": {},
   "outputs": [
    {
     "data": {
      "text/html": [
       "<table border=\"1\" class=\"dataframe\">\n",
       "    <thead>\n",
       "        <tr>\n",
       "            <th>age</th> <th>sex</th> <th>bmi</th> <th>children</th> <th>smoker</th> <th>region</th> <th>charges</th>\n",
       "        </tr>\n",
       "    </thead>\n",
       "    <tbody>\n",
       "        <tr>\n",
       "            <td>19  </td> <td>female</td> <td>27.9  </td> <td>0       </td> <td>yes   </td> <td>southwest</td> <td>16884.9</td>\n",
       "        </tr>\n",
       "        <tr>\n",
       "            <td>18  </td> <td>male  </td> <td>33.77 </td> <td>1       </td> <td>no    </td> <td>southeast</td> <td>1725.55</td>\n",
       "        </tr>\n",
       "        <tr>\n",
       "            <td>28  </td> <td>male  </td> <td>33    </td> <td>3       </td> <td>no    </td> <td>southeast</td> <td>4449.46</td>\n",
       "        </tr>\n",
       "        <tr>\n",
       "            <td>33  </td> <td>male  </td> <td>22.705</td> <td>0       </td> <td>no    </td> <td>northwest</td> <td>21984.5</td>\n",
       "        </tr>\n",
       "        <tr>\n",
       "            <td>32  </td> <td>male  </td> <td>28.88 </td> <td>0       </td> <td>no    </td> <td>northwest</td> <td>3866.86</td>\n",
       "        </tr>\n",
       "        <tr>\n",
       "            <td>31  </td> <td>female</td> <td>25.74 </td> <td>0       </td> <td>no    </td> <td>southeast</td> <td>3756.62</td>\n",
       "        </tr>\n",
       "        <tr>\n",
       "            <td>46  </td> <td>female</td> <td>33.44 </td> <td>1       </td> <td>no    </td> <td>southeast</td> <td>8240.59</td>\n",
       "        </tr>\n",
       "        <tr>\n",
       "            <td>37  </td> <td>female</td> <td>27.74 </td> <td>3       </td> <td>no    </td> <td>northwest</td> <td>7281.51</td>\n",
       "        </tr>\n",
       "        <tr>\n",
       "            <td>37  </td> <td>male  </td> <td>29.83 </td> <td>2       </td> <td>no    </td> <td>northeast</td> <td>6406.41</td>\n",
       "        </tr>\n",
       "        <tr>\n",
       "            <td>60  </td> <td>female</td> <td>25.84 </td> <td>0       </td> <td>no    </td> <td>northwest</td> <td>28923.1</td>\n",
       "        </tr>\n",
       "    </tbody>\n",
       "</table>\n",
       "<p>... (1328 rows omitted)</p>"
      ],
      "text/plain": [
       "age  | sex    | bmi    | children | smoker | region    | charges\n",
       "19   | female | 27.9   | 0        | yes    | southwest | 16884.9\n",
       "18   | male   | 33.77  | 1        | no     | southeast | 1725.55\n",
       "28   | male   | 33     | 3        | no     | southeast | 4449.46\n",
       "33   | male   | 22.705 | 0        | no     | northwest | 21984.5\n",
       "32   | male   | 28.88  | 0        | no     | northwest | 3866.86\n",
       "31   | female | 25.74  | 0        | no     | southeast | 3756.62\n",
       "46   | female | 33.44  | 1        | no     | southeast | 8240.59\n",
       "37   | female | 27.74  | 3        | no     | northwest | 7281.51\n",
       "37   | male   | 29.83  | 2        | no     | northeast | 6406.41\n",
       "60   | female | 25.84  | 0        | no     | northwest | 28923.1\n",
       "... (1328 rows omitted)"
      ]
     },
     "execution_count": 11,
     "metadata": {},
     "output_type": "execute_result"
    }
   ],
   "source": [
    "# pandas\n",
    "df[~(df['age'].isnull())]\n",
    "\n",
    "# datascience\n",
    "def not_nan(x):\n",
    "    return not np.isnan(x)\n",
    "\n",
    "tbl.where('age', not_nan)"
   ]
  },
  {
   "cell_type": "markdown",
   "metadata": {},
   "source": [
    "### Descriptive Statistics\n",
    "\n",
    "In order to understand the distribution of your numerical data, it can be very useful to look at descriptive statistics of the values. The `pandas` library has a built-in `.describe()` method that filters out non-numerical columns and then provides the count of non-`NaN` values; mean; SD; minimum; 25th, 50th, and 75th percentiles; and the maximum."
   ]
  },
  {
   "cell_type": "code",
   "execution_count": 12,
   "metadata": {},
   "outputs": [
    {
     "data": {
      "text/html": [
       "<div>\n",
       "<style scoped>\n",
       "    .dataframe tbody tr th:only-of-type {\n",
       "        vertical-align: middle;\n",
       "    }\n",
       "\n",
       "    .dataframe tbody tr th {\n",
       "        vertical-align: top;\n",
       "    }\n",
       "\n",
       "    .dataframe thead th {\n",
       "        text-align: right;\n",
       "    }\n",
       "</style>\n",
       "<table border=\"1\" class=\"dataframe\">\n",
       "  <thead>\n",
       "    <tr style=\"text-align: right;\">\n",
       "      <th></th>\n",
       "      <th>age</th>\n",
       "      <th>bmi</th>\n",
       "      <th>children</th>\n",
       "      <th>charges</th>\n",
       "    </tr>\n",
       "  </thead>\n",
       "  <tbody>\n",
       "    <tr>\n",
       "      <th>count</th>\n",
       "      <td>1338.000000</td>\n",
       "      <td>1338.000000</td>\n",
       "      <td>1338.000000</td>\n",
       "      <td>1338.000000</td>\n",
       "    </tr>\n",
       "    <tr>\n",
       "      <th>mean</th>\n",
       "      <td>39.207025</td>\n",
       "      <td>30.663397</td>\n",
       "      <td>1.094918</td>\n",
       "      <td>13270.422265</td>\n",
       "    </tr>\n",
       "    <tr>\n",
       "      <th>std</th>\n",
       "      <td>14.049960</td>\n",
       "      <td>6.098187</td>\n",
       "      <td>1.205493</td>\n",
       "      <td>12110.011237</td>\n",
       "    </tr>\n",
       "    <tr>\n",
       "      <th>min</th>\n",
       "      <td>18.000000</td>\n",
       "      <td>15.960000</td>\n",
       "      <td>0.000000</td>\n",
       "      <td>1121.873900</td>\n",
       "    </tr>\n",
       "    <tr>\n",
       "      <th>25%</th>\n",
       "      <td>27.000000</td>\n",
       "      <td>26.296250</td>\n",
       "      <td>0.000000</td>\n",
       "      <td>4740.287150</td>\n",
       "    </tr>\n",
       "    <tr>\n",
       "      <th>50%</th>\n",
       "      <td>39.000000</td>\n",
       "      <td>30.400000</td>\n",
       "      <td>1.000000</td>\n",
       "      <td>9382.033000</td>\n",
       "    </tr>\n",
       "    <tr>\n",
       "      <th>75%</th>\n",
       "      <td>51.000000</td>\n",
       "      <td>34.693750</td>\n",
       "      <td>2.000000</td>\n",
       "      <td>16639.912515</td>\n",
       "    </tr>\n",
       "    <tr>\n",
       "      <th>max</th>\n",
       "      <td>64.000000</td>\n",
       "      <td>53.130000</td>\n",
       "      <td>5.000000</td>\n",
       "      <td>63770.428010</td>\n",
       "    </tr>\n",
       "  </tbody>\n",
       "</table>\n",
       "</div>"
      ],
      "text/plain": [
       "               age          bmi     children       charges\n",
       "count  1338.000000  1338.000000  1338.000000   1338.000000\n",
       "mean     39.207025    30.663397     1.094918  13270.422265\n",
       "std      14.049960     6.098187     1.205493  12110.011237\n",
       "min      18.000000    15.960000     0.000000   1121.873900\n",
       "25%      27.000000    26.296250     0.000000   4740.287150\n",
       "50%      39.000000    30.400000     1.000000   9382.033000\n",
       "75%      51.000000    34.693750     2.000000  16639.912515\n",
       "max      64.000000    53.130000     5.000000  63770.428010"
      ]
     },
     "execution_count": 12,
     "metadata": {},
     "output_type": "execute_result"
    }
   ],
   "source": [
    "# pandas\n",
    "df.describe()"
   ]
  },
  {
   "cell_type": "markdown",
   "metadata": {},
   "source": [
    "The `datascience` library allows you to compute statistics on each column of your table, but it has two drawbacks:\n",
    "1. It requires you to specify which operations you want to run, and\n",
    "2. It does not filter out non-numerical columns\n",
    "\n",
    "To use the `datascience` library, use the `.stats()` method; this requires you to specify which statistics you want to use to aggregate each column, which you do by passing a list of functions as the `ops` argument."
   ]
  },
  {
   "cell_type": "code",
   "execution_count": 13,
   "metadata": {},
   "outputs": [
    {
     "data": {
      "text/html": [
       "<table border=\"1\" class=\"dataframe\">\n",
       "    <thead>\n",
       "        <tr>\n",
       "            <th>statistic</th> <th>age</th> <th>sex</th> <th>bmi</th> <th>children</th> <th>smoker</th> <th>region</th> <th>charges</th>\n",
       "        </tr>\n",
       "    </thead>\n",
       "    <tbody>\n",
       "        <tr>\n",
       "            <td>min      </td> <td>18     </td> <td>female</td> <td>15.96  </td> <td>0       </td> <td>no    </td> <td>northeast</td> <td>1121.87</td>\n",
       "        </tr>\n",
       "        <tr>\n",
       "            <td>max      </td> <td>64     </td> <td>male  </td> <td>53.13  </td> <td>5       </td> <td>yes   </td> <td>southwest</td> <td>63770.4</td>\n",
       "        </tr>\n",
       "        <tr>\n",
       "            <td>mean     </td> <td>39.207 </td> <td>      </td> <td>30.6634</td> <td>1.09492 </td> <td>      </td> <td>         </td> <td>13270.4</td>\n",
       "        </tr>\n",
       "        <tr>\n",
       "            <td>std      </td> <td>14.0447</td> <td>      </td> <td>6.09591</td> <td>1.20504 </td> <td>      </td> <td>         </td> <td>12105.5</td>\n",
       "        </tr>\n",
       "    </tbody>\n",
       "</table>"
      ],
      "text/plain": [
       "statistic | age     | sex    | bmi     | children | smoker | region    | charges\n",
       "min       | 18      | female | 15.96   | 0        | no     | northeast | 1121.87\n",
       "max       | 64      | male   | 53.13   | 5        | yes    | southwest | 63770.4\n",
       "mean      | 39.207  |        | 30.6634 | 1.09492  |        |           | 13270.4\n",
       "std       | 14.0447 |        | 6.09591 | 1.20504  |        |           | 12105.5"
      ]
     },
     "execution_count": 13,
     "metadata": {},
     "output_type": "execute_result"
    }
   ],
   "source": [
    "# datascience\n",
    "tbl.stats(ops = [min, max, np.mean, np.std])"
   ]
  },
  {
   "cell_type": "markdown",
   "metadata": {},
   "source": [
    "### Grouping\n",
    "\n",
    "To group rows by a value in a column in `pandas`, you pass the column name to the `.group()` method and then use an aggregation function to aggregate the values by column in each group. You can use some built-in aggregators (e.g. `.count()`, `.sum()`, `.min()`, `.max()`, `.mean()`) or pass your own function to `.agg()`. In the `datascience` library, you can group by a column with the `.group()` method; this defaults to counts, but you can pass an optional second argument with an aggregator function."
   ]
  },
  {
   "cell_type": "code",
   "execution_count": 14,
   "metadata": {},
   "outputs": [
    {
     "data": {
      "text/html": [
       "<table border=\"1\" class=\"dataframe\">\n",
       "    <thead>\n",
       "        <tr>\n",
       "            <th>sex</th> <th>count</th>\n",
       "        </tr>\n",
       "    </thead>\n",
       "    <tbody>\n",
       "        <tr>\n",
       "            <td>female</td> <td>662  </td>\n",
       "        </tr>\n",
       "        <tr>\n",
       "            <td>male  </td> <td>676  </td>\n",
       "        </tr>\n",
       "    </tbody>\n",
       "</table>"
      ],
      "text/plain": [
       "sex    | count\n",
       "female | 662\n",
       "male   | 676"
      ]
     },
     "execution_count": 14,
     "metadata": {},
     "output_type": "execute_result"
    }
   ],
   "source": [
    "# pandas\n",
    "df.groupby('sex').count() # can also use .agg()\n",
    "\n",
    "# datascience\n",
    "tbl.group('sex')"
   ]
  },
  {
   "cell_type": "markdown",
   "metadata": {},
   "source": [
    "### Manipulating Values\n",
    "\n",
    "The most common way to manipulate a data set is to apply a predefined function on each element of a column. While some common functions are built into `pandas`, the `datascience` library does not have this. Both libraries, however, feature a `.apply()` method that allows you to apply a function repeatedly to each value in a column. With `pandas`, the implementation is a bit more complicated, but we will see that it is not difficult."
   ]
  },
  {
   "cell_type": "code",
   "execution_count": 15,
   "metadata": {},
   "outputs": [
    {
     "data": {
      "text/html": [
       "<div>\n",
       "<style scoped>\n",
       "    .dataframe tbody tr th:only-of-type {\n",
       "        vertical-align: middle;\n",
       "    }\n",
       "\n",
       "    .dataframe tbody tr th {\n",
       "        vertical-align: top;\n",
       "    }\n",
       "\n",
       "    .dataframe thead th {\n",
       "        text-align: right;\n",
       "    }\n",
       "</style>\n",
       "<table border=\"1\" class=\"dataframe\">\n",
       "  <thead>\n",
       "    <tr style=\"text-align: right;\">\n",
       "      <th></th>\n",
       "      <th>age</th>\n",
       "      <th>sex</th>\n",
       "      <th>bmi</th>\n",
       "      <th>children</th>\n",
       "      <th>smoker</th>\n",
       "      <th>region</th>\n",
       "      <th>charges</th>\n",
       "      <th>age^2</th>\n",
       "    </tr>\n",
       "  </thead>\n",
       "  <tbody>\n",
       "    <tr>\n",
       "      <th>0</th>\n",
       "      <td>19</td>\n",
       "      <td>female</td>\n",
       "      <td>27.900</td>\n",
       "      <td>0</td>\n",
       "      <td>yes</td>\n",
       "      <td>southwest</td>\n",
       "      <td>16884.92400</td>\n",
       "      <td>361</td>\n",
       "    </tr>\n",
       "    <tr>\n",
       "      <th>1</th>\n",
       "      <td>18</td>\n",
       "      <td>male</td>\n",
       "      <td>33.770</td>\n",
       "      <td>1</td>\n",
       "      <td>no</td>\n",
       "      <td>southeast</td>\n",
       "      <td>1725.55230</td>\n",
       "      <td>324</td>\n",
       "    </tr>\n",
       "    <tr>\n",
       "      <th>2</th>\n",
       "      <td>28</td>\n",
       "      <td>male</td>\n",
       "      <td>33.000</td>\n",
       "      <td>3</td>\n",
       "      <td>no</td>\n",
       "      <td>southeast</td>\n",
       "      <td>4449.46200</td>\n",
       "      <td>784</td>\n",
       "    </tr>\n",
       "    <tr>\n",
       "      <th>3</th>\n",
       "      <td>33</td>\n",
       "      <td>male</td>\n",
       "      <td>22.705</td>\n",
       "      <td>0</td>\n",
       "      <td>no</td>\n",
       "      <td>northwest</td>\n",
       "      <td>21984.47061</td>\n",
       "      <td>1089</td>\n",
       "    </tr>\n",
       "    <tr>\n",
       "      <th>4</th>\n",
       "      <td>32</td>\n",
       "      <td>male</td>\n",
       "      <td>28.880</td>\n",
       "      <td>0</td>\n",
       "      <td>no</td>\n",
       "      <td>northwest</td>\n",
       "      <td>3866.85520</td>\n",
       "      <td>1024</td>\n",
       "    </tr>\n",
       "  </tbody>\n",
       "</table>\n",
       "</div>"
      ],
      "text/plain": [
       "   age     sex     bmi  children smoker     region      charges  age^2\n",
       "0   19  female  27.900         0    yes  southwest  16884.92400    361\n",
       "1   18    male  33.770         1     no  southeast   1725.55230    324\n",
       "2   28    male  33.000         3     no  southeast   4449.46200    784\n",
       "3   33    male  22.705         0     no  northwest  21984.47061   1089\n",
       "4   32    male  28.880         0     no  northwest   3866.85520   1024"
      ]
     },
     "execution_count": 15,
     "metadata": {},
     "output_type": "execute_result"
    }
   ],
   "source": [
    "def pandas_square(x):\n",
    "    var = x[\"age\"] # in pandas, you need to select out the column you want to edit\n",
    "                   # within the function that you're apply to the df, as the argument\n",
    "                   # passed to the function is actually a Series that contains the\n",
    "                   # values for that row\n",
    "    return var**2\n",
    "\n",
    "pd_squared_ages = df.apply(pandas_square, axis=1)\n",
    "\n",
    "# to add this variable back into the df, we need to initialize a column and\n",
    "# set its values:\n",
    "df[\"age^2\"] = pd_squared_ages\n",
    "df.head()"
   ]
  },
  {
   "cell_type": "code",
   "execution_count": 16,
   "metadata": {
    "scrolled": true
   },
   "outputs": [
    {
     "data": {
      "text/html": [
       "<table border=\"1\" class=\"dataframe\">\n",
       "    <thead>\n",
       "        <tr>\n",
       "            <th>age</th> <th>sex</th> <th>bmi</th> <th>children</th> <th>smoker</th> <th>region</th> <th>charges</th> <th>age^2</th>\n",
       "        </tr>\n",
       "    </thead>\n",
       "    <tbody>\n",
       "        <tr>\n",
       "            <td>19  </td> <td>female</td> <td>27.9  </td> <td>0       </td> <td>yes   </td> <td>southwest</td> <td>16884.9</td> <td>361  </td>\n",
       "        </tr>\n",
       "        <tr>\n",
       "            <td>18  </td> <td>male  </td> <td>33.77 </td> <td>1       </td> <td>no    </td> <td>southeast</td> <td>1725.55</td> <td>324  </td>\n",
       "        </tr>\n",
       "        <tr>\n",
       "            <td>28  </td> <td>male  </td> <td>33    </td> <td>3       </td> <td>no    </td> <td>southeast</td> <td>4449.46</td> <td>784  </td>\n",
       "        </tr>\n",
       "        <tr>\n",
       "            <td>33  </td> <td>male  </td> <td>22.705</td> <td>0       </td> <td>no    </td> <td>northwest</td> <td>21984.5</td> <td>1089 </td>\n",
       "        </tr>\n",
       "        <tr>\n",
       "            <td>32  </td> <td>male  </td> <td>28.88 </td> <td>0       </td> <td>no    </td> <td>northwest</td> <td>3866.86</td> <td>1024 </td>\n",
       "        </tr>\n",
       "    </tbody>\n",
       "</table>\n",
       "<p>... (1333 rows omitted)</p>"
      ],
      "text/plain": [
       "<IPython.core.display.HTML object>"
      ]
     },
     "metadata": {},
     "output_type": "display_data"
    }
   ],
   "source": [
    "def datascience_square(x):\n",
    "    return x**2 # datascience does not require element selection\n",
    "\n",
    "ds_squared_ages = tbl.apply(datascience_square, \"age\")\n",
    "tbl = tbl.with_column(\"age^2\", ds_squared_ages)\n",
    "tbl.show(5)"
   ]
  },
  {
   "cell_type": "markdown",
   "metadata": {},
   "source": [
    "### Exporting Figures\n",
    "\n",
    "To export figures generated in `pyplot`, you need to append the `plt.savefig()` command to the end of your function call. Make sure you pass a filename to the function, so that it goes to the correct output folder. Because the `pyplot` calls are the same for `datascience` and `pandas`, we demonstrate with arbitrary arrays below."
   ]
  },
  {
   "cell_type": "code",
   "execution_count": 17,
   "metadata": {},
   "outputs": [
    {
     "data": {
      "image/png": "[encoded data removed]",
      "text/plain": [
       "<Figure size 432x288 with 1 Axes>"
      ]
     },
     "metadata": {},
     "output_type": "display_data"
    }
   ],
   "source": [
    "x = np.random.normal(0, 10, 1000)\n",
    "y = np.random.uniform(0, 100, 1000)\n",
    "\n",
    "plt.scatter(x, y)\n",
    "plt.title(\"Scatterplot of Arbitrary Data\")\n",
    "plt.xlabel(r\"$x$\")\n",
    "plt.ylabel(r\"$y$\")\n",
    "plt.savefig(\"../output/demo-plot.png\")"
   ]
  },
  {
   "cell_type": "markdown",
   "metadata": {},
   "source": [
    "### Exporting Data\n",
    "\n",
    "If you make some modifications to the data set or do some data cleaning, you may want to export your data from Python to make it easier to pick up later or to reproduce. For this reason, there are `pandas` and `datascience` functions that allow you to export a DataFrame or Table object to a text file, which you can then load back into Python later. To export as a CSV file, you pass the file name (or file location, if it's going to another folder) to the `.to_csv()` method."
   ]
  },
  {
   "cell_type": "code",
   "execution_count": 18,
   "metadata": {},
   "outputs": [],
   "source": [
    "# pandas\n",
    "df.to_csv('../output/insurance_pandas.csv', index=False)\n",
    "\n",
    "# datascience\n",
    "tbl.to_csv('../output/insurance_datascience.csv')"
   ]
  },
  {
   "cell_type": "markdown",
   "metadata": {},
   "source": [
    "If you're exporting a `pandas` DataFrame, make sure that you set the `index` argument to `False`, otherwise your DataFrame will export with an added column containing the DataFrame's index.\n",
    "\n",
    "If you want to save as one of the other filetypes we discussed when importing data (e.g. TSV), you will have to export through `pandas` by setting the `sep` argument of the `.to_csv()` method. This is easily accomplished if you have a Table by transferring that table to `pandas` first."
   ]
  },
  {
   "cell_type": "code",
   "execution_count": 19,
   "metadata": {},
   "outputs": [],
   "source": [
    "# transfer to pandas, from above\n",
    "df_from_tbl = tbl.to_df()\n",
    "\n",
    "# export as tsv\n",
    "df.to_csv('../output/insurance_padas.tsv', index=False, sep='\\t')\n",
    "df_from_tbl.to_csv('../output/insurance_datascience.tsv', index=False, sep='\\t')"
   ]
  },
  {
   "cell_type": "markdown",
   "metadata": {},
   "source": [
    "### Conclusion\n",
    "\n",
    "Hopefully, this notebook gave you most of the coding background that you need in order to do your analyses; everything else you should have learning in Data 8. If you have any questions on these functions or how to do something, start by Googling what you're trying to accomplish; you will be surprised how often someone else has had the same question and has had it answered by someone online. If you're still stuck, please post on Piazza or email one of us."
   ]
  }
 ],
 "metadata": {
  "@webio": {
   "lastCommId": null,
   "lastKernelId": null
  },
  "kernelspec": {
   "display_name": "Python 3",
   "language": "python",
   "name": "python3"
  },
  "language_info": {
   "codemirror_mode": {
    "name": "ipython",
    "version": 3
   },
   "file_extension": ".py",
   "mimetype": "text/x-python",
   "name": "python",
   "nbconvert_exporter": "python",
   "pygments_lexer": "ipython3",
   "version": "3.6.5"
  }
 },
 "nbformat": 4,
 "nbformat_minor": 2
}
