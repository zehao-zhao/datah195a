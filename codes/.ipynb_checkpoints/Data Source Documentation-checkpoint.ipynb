{
 "cells": [
  {
   "cell_type": "code",
   "execution_count": 5,
   "id": "fc53bda9",
   "metadata": {},
   "outputs": [
    {
     "name": "stdout",
     "output_type": "stream",
     "text": [
      "Collecting tushare\n",
      "  Downloading tushare-1.2.77-py3-none-any.whl (130 kB)\n",
      "     |████████████████████████████████| 130 kB 6.0 MB/s            \n",
      "\u001b[?25hCollecting bs4\n",
      "  Using cached bs4-0.0.1-py3-none-any.whl\n",
      "Collecting simplejson\n",
      "  Downloading simplejson-3.17.6-cp39-cp39-macosx_11_0_arm64.whl (73 kB)\n",
      "     |████████████████████████████████| 73 kB 14.4 MB/s             \n",
      "\u001b[?25hRequirement already satisfied: pandas in /opt/homebrew/Cellar/jupyterlab/3.2.4/libexec/lib/python3.9/site-packages (from tushare) (1.3.5)\n",
      "Collecting lxml\n",
      "  Downloading lxml-4.7.1.tar.gz (3.2 MB)\n",
      "     |████████████████████████████████| 3.2 MB 21.7 MB/s            \n",
      "\u001b[?25h  Preparing metadata (setup.py) ... \u001b[?25ldone\n",
      "\u001b[?25hRequirement already satisfied: requests in /opt/homebrew/Cellar/jupyterlab/3.2.4/libexec/lib/python3.9/site-packages (from tushare) (2.26.0)\n",
      "Requirement already satisfied: websocket-client>=0.57.0 in /opt/homebrew/Cellar/jupyterlab/3.2.4/libexec/lib/python3.9/site-packages (from tushare) (1.2.1)\n",
      "Collecting beautifulsoup4\n",
      "  Using cached beautifulsoup4-4.10.0-py3-none-any.whl (97 kB)\n",
      "Requirement already satisfied: pytz>=2017.3 in /opt/homebrew/Cellar/jupyterlab/3.2.4/libexec/lib/python3.9/site-packages (from pandas->tushare) (2021.3)\n",
      "Requirement already satisfied: python-dateutil>=2.7.3 in /opt/homebrew/Cellar/jupyterlab/3.2.4/libexec/lib/python3.9/site-packages (from pandas->tushare) (2.8.2)\n",
      "Requirement already satisfied: numpy>=1.20.0 in /opt/homebrew/lib/python3.9/site-packages (from pandas->tushare) (1.21.4)\n",
      "Requirement already satisfied: urllib3<1.27,>=1.21.1 in /opt/homebrew/Cellar/jupyterlab/3.2.4/libexec/lib/python3.9/site-packages (from requests->tushare) (1.26.7)\n",
      "Requirement already satisfied: certifi>=2017.4.17 in /opt/homebrew/Cellar/jupyterlab/3.2.4/libexec/lib/python3.9/site-packages (from requests->tushare) (2021.10.8)\n",
      "Requirement already satisfied: charset_normalizer~=2.0.0 in /opt/homebrew/Cellar/jupyterlab/3.2.4/libexec/lib/python3.9/site-packages (from requests->tushare) (2.0.7)\n",
      "Requirement already satisfied: idna<4,>=2.5 in /opt/homebrew/Cellar/jupyterlab/3.2.4/libexec/lib/python3.9/site-packages (from requests->tushare) (3.3)\n",
      "Requirement already satisfied: six>=1.5 in /opt/homebrew/Cellar/six/1.16.0_2/lib/python3.9/site-packages (from python-dateutil>=2.7.3->pandas->tushare) (1.16.0)\n",
      "Collecting soupsieve>1.2\n",
      "  Downloading soupsieve-2.3.1-py3-none-any.whl (37 kB)\n",
      "Building wheels for collected packages: lxml\n",
      "  Building wheel for lxml (setup.py) ... \u001b[?25ldone\n",
      "\u001b[?25h  Created wheel for lxml: filename=lxml-4.7.1-cp39-cp39-macosx_12_0_arm64.whl size=1494527 sha256=e7ded5457d00c7a7f1ec03d06e92964f173d70bb41c9dc5cc950f37a7bd4b7f8\n",
      "  Stored in directory: /Users/andy/Library/Caches/pip/wheels/b2/0f/42/b06ea5234bf22bd3f4bf2d60a0dcdf4d4b2e709435d3ffb3c3\n",
      "Successfully built lxml\n",
      "Installing collected packages: soupsieve, beautifulsoup4, simplejson, lxml, bs4, tushare\n",
      "Successfully installed beautifulsoup4-4.10.0 bs4-0.0.1 lxml-4.7.1 simplejson-3.17.6 soupsieve-2.3.1 tushare-1.2.77\n",
      "Note: you may need to restart the kernel to use updated packages.\n"
     ]
    }
   ],
   "source": [
    "pip install tushare"
   ]
  },
  {
   "cell_type": "code",
   "execution_count": 6,
   "id": "ae21a81f",
   "metadata": {},
   "outputs": [
    {
     "name": "stdout",
     "output_type": "stream",
     "text": [
      "Collecting tqdm\n",
      "  Using cached tqdm-4.62.3-py2.py3-none-any.whl (76 kB)\n",
      "Installing collected packages: tqdm\n",
      "Successfully installed tqdm-4.62.3\n",
      "Note: you may need to restart the kernel to use updated packages.\n"
     ]
    }
   ],
   "source": [
    "pip install tqdm"
   ]
  },
  {
   "cell_type": "code",
   "execution_count": 3,
   "id": "2180f107",
   "metadata": {},
   "outputs": [
    {
     "name": "stdout",
     "output_type": "stream",
     "text": [
      "Collecting pandas\n",
      "  Downloading pandas-1.3.5.tar.gz (4.7 MB)\n",
      "     |████████████████████████████████| 4.7 MB 5.0 MB/s            \n",
      "\u001b[?25h  Installing build dependencies ... \u001b[?25ldone\n",
      "\u001b[?25h  Getting requirements to build wheel ... \u001b[?25ldone\n",
      "\u001b[?25h  Preparing metadata (pyproject.toml) ... \u001b[?25ldone\n",
      "\u001b[?25hRequirement already satisfied: numpy>=1.20.0 in /opt/homebrew/lib/python3.9/site-packages (from pandas) (1.21.4)\n",
      "Requirement already satisfied: python-dateutil>=2.7.3 in /opt/homebrew/Cellar/jupyterlab/3.2.4/libexec/lib/python3.9/site-packages (from pandas) (2.8.2)\n",
      "Requirement already satisfied: pytz>=2017.3 in /opt/homebrew/Cellar/jupyterlab/3.2.4/libexec/lib/python3.9/site-packages (from pandas) (2021.3)\n",
      "Requirement already satisfied: six>=1.5 in /opt/homebrew/Cellar/six/1.16.0_2/lib/python3.9/site-packages (from python-dateutil>=2.7.3->pandas) (1.16.0)\n",
      "Building wheels for collected packages: pandas\n",
      "  Building wheel for pandas (pyproject.toml) ... \u001b[?25ldone\n",
      "\u001b[?25h  Created wheel for pandas: filename=pandas-1.3.5-cp39-cp39-macosx_12_0_arm64.whl size=10245250 sha256=5507a715d28f81c3e04731e831bd9f17905a4f94b3f97e7372b5ae8b44ff094c\n",
      "  Stored in directory: /Users/andy/Library/Caches/pip/wheels/46/1f/09/be8c6f216f000b48aaef3009dc7017707a1b18ef30ba548b8d\n",
      "Successfully built pandas\n",
      "Installing collected packages: pandas\n",
      "Successfully installed pandas-1.3.5\n",
      "Note: you may need to restart the kernel to use updated packages.\n"
     ]
    }
   ],
   "source": [
    "pip install pandas"
   ]
  },
  {
   "cell_type": "code",
   "execution_count": 1,
   "id": "c920fc8e",
   "metadata": {},
   "outputs": [],
   "source": [
    "# Import libraries\n",
    "import pandas as pd\n",
    "import tushare as ts\n",
    "from datetime import date\n",
    "from tqdm import tqdm"
   ]
  },
  {
   "cell_type": "code",
   "execution_count": 2,
   "id": "49c22bd8",
   "metadata": {},
   "outputs": [],
   "source": [
    "def download_ticker_mapping(tushare_token, ticker_path=None):\n",
    "    ts.set_token(tushare_token)\n",
    "    pro=ts.pro_api()\n",
    "    df_ticker=pro.stock_basic(exchange=\"\",list_status=\"L\",fields=\"\")\n",
    "    \n",
    "    if ticker_path is not None:\n",
    "        df_ticker.to_excel(ticker_path,index=False,encoding=\"utf_8_sig\")\n",
    "    \n",
    "    return df_ticker\n",
    "#download_ticker_mapping(\"600848\", ticker_path=None)"
   ]
  },
  {
   "cell_type": "code",
   "execution_count": 9,
   "id": "ff069fb2",
   "metadata": {},
   "outputs": [
    {
     "name": "stdout",
     "output_type": "stream",
     "text": [
      "本接口即将停止更新，请尽快使用Pro版接口：https://waditu.com/document/2\n"
     ]
    }
   ],
   "source": [
    "all_data=ts.get_hist_data('603308')\n",
    "new_stock=all_data.iloc[::-1].reset_index()\n",
    "all_data.iloc[::-1].reset_index().to_csv(\"yingliu.csv\", encoding='utf-8', index=False)"
   ]
  },
  {
   "cell_type": "markdown",
   "id": "4b0832cf",
   "metadata": {},
   "source": [
    "The data shown here is the up-to-date historical data of mainland china stock market, where i just need to input the token/stock number of the specific stock, then I can have the datatable for the entire stock from 2019 to 2021, which inclused the open, high, close, low, and etc information. \n",
    "\n",
    "The data come from tushare which is a chinese company, they first post their open-source github code online, and created a package called tushare to track stock information, it will update everyday. website in chinese: https://waditu.com/document/2\n",
    "github repository: https://github.com/waditu/Tushare\n",
    "\n",
    "It is a tool that realizes the process of data collection, cleaning and processing to data storage of financial data such as stocks/futures, and meets the needs of financial quantitative analysts and people studying data analysis in terms of data acquisition. It is characterized by a wide range of data coverage and it is simple to use the packages and datatable.\n",
    "\n",
    "The biasness maybe the data does not cover the holistics to a stock, some stocks are very old but the datatable only covers the all the information from 2019/4/23. I have not yet come up with any censoring related to the datatable, however, it is a chinese company that will come under chinese policy's rule."
   ]
  },
  {
   "cell_type": "code",
   "execution_count": 12,
   "id": "a2f12146",
   "metadata": {},
   "outputs": [
    {
     "data": {
      "text/plain": [
       "0      2019-06-18\n",
       "1      2019-06-19\n",
       "2      2019-06-20\n",
       "3      2019-06-21\n",
       "4      2019-06-24\n",
       "          ...    \n",
       "605    2021-12-10\n",
       "606    2021-12-13\n",
       "607    2021-12-14\n",
       "608    2021-12-15\n",
       "609    2021-12-16\n",
       "Name: date, Length: 610, dtype: object"
      ]
     },
     "execution_count": 12,
     "metadata": {},
     "output_type": "execute_result"
    }
   ],
   "source": [
    "all_data.iloc[::-1].reset_index()[\"date\"]"
   ]
  },
  {
   "cell_type": "code",
   "execution_count": 13,
   "id": "d6fbe4cf",
   "metadata": {},
   "outputs": [
    {
     "ename": "NameError",
     "evalue": "name 'df' is not defined",
     "output_type": "error",
     "traceback": [
      "\u001b[0;31m---------------------------------------------------------------------------\u001b[0m",
      "\u001b[0;31mNameError\u001b[0m                                 Traceback (most recent call last)",
      "\u001b[0;32m/var/folders/5t/gc9cjxk9525_8r6m5gvkv79c0000gn/T/ipykernel_62769/4008782864.py\u001b[0m in \u001b[0;36m<module>\u001b[0;34m\u001b[0m\n\u001b[1;32m      1\u001b[0m s = pd.DataFrame(\n\u001b[0;32m----> 2\u001b[0;31m     \u001b[0;34m{\u001b[0m\u001b[0;34m\"StartDate\"\u001b[0m\u001b[0;34m:\u001b[0m \u001b[0mpd\u001b[0m\u001b[0;34m.\u001b[0m\u001b[0mdate_range\u001b[0m\u001b[0;34m(\u001b[0m\u001b[0mdf\u001b[0m\u001b[0;34m.\u001b[0m\u001b[0mStartDate\u001b[0m\u001b[0;34m.\u001b[0m\u001b[0mmin\u001b[0m\u001b[0;34m(\u001b[0m\u001b[0;34m)\u001b[0m\u001b[0;34m,\u001b[0m \u001b[0mdf\u001b[0m\u001b[0;34m.\u001b[0m\u001b[0mStartDate\u001b[0m\u001b[0;34m.\u001b[0m\u001b[0mmax\u001b[0m\u001b[0;34m(\u001b[0m\u001b[0;34m)\u001b[0m\u001b[0;34m,\u001b[0m \u001b[0mfreq\u001b[0m\u001b[0;34m=\u001b[0m\u001b[0;34m\"D\"\u001b[0m\u001b[0;34m)\u001b[0m\u001b[0;34m}\u001b[0m\u001b[0;34m\u001b[0m\u001b[0;34m\u001b[0m\u001b[0m\n\u001b[0m\u001b[1;32m      3\u001b[0m )\n",
      "\u001b[0;31mNameError\u001b[0m: name 'df' is not defined"
     ]
    }
   ],
   "source": [
    "s = pd.DataFrame(\n",
    "    {\"StartDate\": pd.date_range(all.StartDate.min(), df.StartDate.max(), freq=\"D\")}\n",
    ")"
   ]
  },
  {
   "cell_type": "code",
   "execution_count": null,
   "id": "f0778027",
   "metadata": {},
   "outputs": [],
   "source": [
    "s[\"weekday\"] = s.StartDate.dt.day_name()\n",
    "\n",
    "s = s.loc[s[\"weekday\"].isin([\"Saturday\", \"Sunday\"])]\n",
    "\n",
    "df_new = (\n",
    "    pd.concat([df, s], sort=False)\n",
    "    .drop_duplicates(keep=\"first\")\n",
    "    .sort_values(\"StartDate\")\n",
    ")\n",
    "print(df_new)"
   ]
  }
 ],
 "metadata": {
  "kernelspec": {
   "display_name": "Python 3 (ipykernel)",
   "language": "python",
   "name": "python3"
  },
  "language_info": {
   "codemirror_mode": {
    "name": "ipython",
    "version": 3
   },
   "file_extension": ".py",
   "mimetype": "text/x-python",
   "name": "python",
   "nbconvert_exporter": "python",
   "pygments_lexer": "ipython3",
   "version": "3.9.9"
  }
 },
 "nbformat": 4,
 "nbformat_minor": 5
}
